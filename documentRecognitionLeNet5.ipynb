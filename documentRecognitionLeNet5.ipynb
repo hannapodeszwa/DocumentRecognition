{
 "cells": [
  {
   "cell_type": "code",
   "execution_count": 6,
   "metadata": {},
   "outputs": [
    {
     "name": "stdout",
     "output_type": "stream",
     "text": [
      "x_train shape: (60000, 28, 28, 1)\n",
      "Number of images in x_train 60000\n",
      "Number of images in x_test 10000\n"
     ]
    }
   ],
   "source": [
    "import matplotlib.pyplot as plt\n",
    "import tensorflow as tf\n",
    "(x_train, y_train), (x_test, y_test) = tf.keras.datasets.mnist.load_data()\n",
    "\n",
    "# Reshaping the array to 4-dims so that it can work with the Keras API\n",
    "x_train = x_train.reshape(x_train.shape[0], 28, 28, 1)\n",
    "x_test = x_test.reshape(x_test.shape[0], 28, 28, 1)\n",
    "input_shape = (28, 28, 1)\n",
    "# Making sure that the values are float so that we can get decimal points after division\n",
    "x_train = x_train.astype('float32')\n",
    "x_test = x_test.astype('float32')\n",
    "# Normalizing the RGB codes by dividing it to the max RGB value.\n",
    "x_train /= 255\n",
    "x_test /= 255\n",
    "print('x_train shape:', x_train.shape)\n",
    "print('Number of images in x_train', x_train.shape[0])\n",
    "print('Number of images in x_test', x_test.shape[0])\n",
    "\n",
    "import numpy as np\n",
    "x_train = np.pad(x_train, ((0,0),(2,2),(2,2),(0,0)), 'constant')\n",
    "x_test = np.pad(x_test, ((0,0),(2,2),(2,2),(0,0)), 'constant')\n",
    "input_shape = (32, 32, 1)"
   ]
  },
  {
   "cell_type": "code",
   "execution_count": 7,
   "metadata": {},
   "outputs": [
    {
     "name": "stdout",
     "output_type": "stream",
     "text": [
      "Model: \"sequential_1\"\n",
      "_________________________________________________________________\n",
      "Layer (type)                 Output Shape              Param #   \n",
      "=================================================================\n",
      "conv2d_2 (Conv2D)            (None, 30, 30, 6)         60        \n",
      "_________________________________________________________________\n",
      "average_pooling2d_2 (Average (None, 15, 15, 6)         0         \n",
      "_________________________________________________________________\n",
      "conv2d_3 (Conv2D)            (None, 13, 13, 16)        880       \n",
      "_________________________________________________________________\n",
      "average_pooling2d_3 (Average (None, 6, 6, 16)          0         \n",
      "_________________________________________________________________\n",
      "flatten_1 (Flatten)          (None, 576)               0         \n",
      "_________________________________________________________________\n",
      "dense_3 (Dense)              (None, 120)               69240     \n",
      "_________________________________________________________________\n",
      "dense_4 (Dense)              (None, 84)                10164     \n",
      "_________________________________________________________________\n",
      "dense_5 (Dense)              (None, 10)                850       \n",
      "=================================================================\n",
      "Total params: 81,194\n",
      "Trainable params: 81,194\n",
      "Non-trainable params: 0\n",
      "_________________________________________________________________\n"
     ]
    }
   ],
   "source": [
    "#Lenet 5\n",
    "\n",
    "from tensorflow.keras.models import Sequential\n",
    "from tensorflow.keras.layers import Dense, Conv2D, Dropout, Flatten, MaxPooling2D\n",
    "model = tf.keras.models.Sequential([\n",
    "\n",
    "tf.keras.layers.Conv2D(filters=6, kernel_size=(3, 3), activation='relu', input_shape=(32,32,1)),\n",
    "tf.keras.layers.AveragePooling2D(),\n",
    "\n",
    "tf.keras.layers.Conv2D(filters=16, kernel_size=(3, 3), activation='relu'),\n",
    "tf.keras.layers.AveragePooling2D(),\n",
    "\n",
    "tf.keras.layers.Flatten(),\n",
    "\n",
    "tf.keras.layers.Dense(units=120, activation='relu'),\n",
    "\n",
    "tf.keras.layers.Dense(units=84, activation='relu'),\n",
    "\n",
    "tf.keras.layers.Dense(units=10, activation = 'softmax')\n",
    "]);\n",
    "\n",
    "model.summary()"
   ]
  },
  {
   "cell_type": "code",
   "execution_count": 3,
   "metadata": {},
   "outputs": [],
   "source": [
    "# implementing a callback function to terminate training once training reaches 98% accuracy for validation data\n",
    "\n",
    "validation_accuracy = 1\n",
    "\n",
    "class myCallback(tf.keras.callbacks.Callback):\n",
    "    def on_epoch_end(self, epoch, logs={}):\n",
    "        if(logs.get(\"val_accuracy\") is not None and logs.get(\"val_accuracy\") >= validation_accuracy):\n",
    "            print(\"\\nReached desired validation accuracy, so cancelling training\")\n",
    "            self.model.stop_training=True\n",
    "            \n",
    "callbacks = myCallback()"
   ]
  },
  {
   "cell_type": "code",
   "execution_count": 4,
   "metadata": {},
   "outputs": [],
   "source": [
    "model.compile(optimizer='adam', \n",
    "              loss='sparse_categorical_crossentropy', \n",
    "              metrics=['accuracy'])"
   ]
  },
  {
   "cell_type": "code",
   "execution_count": 5,
   "metadata": {},
   "outputs": [
    {
     "name": "stdout",
     "output_type": "stream",
     "text": [
      "Epoch 1/10\n",
      "1875/1875 [==============================] - 18s 8ms/step - loss: 0.2260 - accuracy: 0.9322 - val_loss: 0.0938 - val_accuracy: 0.9717\n",
      "Epoch 2/10\n",
      "1875/1875 [==============================] - 16s 8ms/step - loss: 0.0744 - accuracy: 0.9772 - val_loss: 0.0535 - val_accuracy: 0.9831\n",
      "Epoch 3/10\n",
      "1875/1875 [==============================] - 20s 10ms/step - loss: 0.0539 - accuracy: 0.9831 - val_loss: 0.0445 - val_accuracy: 0.9860\n",
      "Epoch 4/10\n",
      "1875/1875 [==============================] - 16s 9ms/step - loss: 0.0419 - accuracy: 0.9865 - val_loss: 0.0395 - val_accuracy: 0.9877\n",
      "Epoch 5/10\n",
      "1875/1875 [==============================] - 17s 9ms/step - loss: 0.0346 - accuracy: 0.9889 - val_loss: 0.0321 - val_accuracy: 0.9898\n",
      "Epoch 6/10\n",
      "1875/1875 [==============================] - 16s 8ms/step - loss: 0.0287 - accuracy: 0.9911 - val_loss: 0.0369 - val_accuracy: 0.9873\n",
      "Epoch 7/10\n",
      "1875/1875 [==============================] - 16s 8ms/step - loss: 0.0234 - accuracy: 0.9923 - val_loss: 0.0305 - val_accuracy: 0.9901\n",
      "Epoch 8/10\n",
      "1875/1875 [==============================] - 16s 9ms/step - loss: 0.0200 - accuracy: 0.9935 - val_loss: 0.0476 - val_accuracy: 0.9859\n",
      "Epoch 9/10\n",
      "1875/1875 [==============================] - 20s 11ms/step - loss: 0.0177 - accuracy: 0.9941 - val_loss: 0.0323 - val_accuracy: 0.9906\n",
      "Epoch 10/10\n",
      "1875/1875 [==============================] - 19s 10ms/step - loss: 0.0150 - accuracy: 0.9952 - val_loss: 0.0373 - val_accuracy: 0.9900\n"
     ]
    }
   ],
   "source": [
    "with tf.device('/gpu:0'):\n",
    "    my_model = model.fit(x=x_train,y=y_train, epochs=10, validation_data=(x_test, y_test), verbose=1, \n",
    "                                  callbacks = [callbacks], workers=10)"
   ]
  },
  {
   "cell_type": "code",
   "execution_count": null,
   "metadata": {},
   "outputs": [],
   "source": [
    "filename = \"model5\"\n",
    "filepath = r\"model5\"\n",
    "tf.keras.models.save_model(\n",
    "    model,\n",
    "    filepath,\n",
    "    overwrite=True,\n",
    "    include_optimizer=True,\n",
    "    save_format=\"tf\",\n",
    "    signatures=None\n",
    ")\n",
    "\n",
    "model.save(filename+\".h5\")\n",
    "\n",
    "# Convert the model.\n",
    "converter = tf.compat.v1.lite.TFLiteConverter.from_keras_model_file(filename+'.h5')\n",
    "tflite_model = converter.convert()\n",
    "\n",
    "# Save the model.\n",
    "with open(filename+'.tflite', 'wb') as f:\n",
    "  f.write(tflite_model)"
   ]
  },
  {
   "cell_type": "code",
   "execution_count": null,
   "metadata": {},
   "outputs": [],
   "source": [
    "  historyFileName = \"hist\"\n",
    "  with open(historyFileName+\".txt\",'w') as f:\n",
    "    for k in my_model.history.keys():\n",
    "        print(k,file=f)\n",
    "        for i in my_model.history[k]:\n",
    "            print(i,file=f)"
   ]
  },
  {
   "cell_type": "code",
   "execution_count": null,
   "metadata": {},
   "outputs": [],
   "source": [
    "acc = my_model.history['accuracy'] #training accuracy scores from the model that has been trained\n",
    "val_acc = my_model.history['val_accuracy'] #validation accuracy scores from the model that has been trained\n",
    "loss = my_model.history['loss'] #training loss scores from the model that has been trained\n",
    "val_loss = my_model.history['val_loss'] #validation loss scores from the model that has been trained\n",
    "\n",
    "epochs = range(len(acc)) #x axis\n",
    "\n",
    "plt.plot(epochs, acc, 'bo', label = 'Dokładność treningu')\n",
    "plt.plot(epochs, val_acc, 'b', label = 'Dokładność walidacji')\n",
    "plt.title('Dokładność treningu i walidacji')\n",
    "plt.legend()\n",
    "plt.figure()\n",
    "\n",
    "plt.plot(epochs, loss, 'ro', label = 'Błąd przewidywania treningu')\n",
    "plt.plot(epochs, val_loss, 'r', label = 'Błąd przewidywania walidacji')\n",
    "plt.title('Błąd przewidywania treningu i walidacji')\n",
    "\n",
    "plt.legend()\n",
    "\n",
    "plt.show()"
   ]
  }
 ],
 "metadata": {
  "interpreter": {
   "hash": "ada95b7aa760c7ebc72eb3c8df3846e63d172e26ec59dab7d388de2df4652aa1"
  },
  "kernelspec": {
   "display_name": "Python 3.7.9 ('FruitRecognition-0gOXzYKb')",
   "language": "python",
   "name": "python3"
  },
  "language_info": {
   "codemirror_mode": {
    "name": "ipython",
    "version": 3
   },
   "file_extension": ".py",
   "mimetype": "text/x-python",
   "name": "python",
   "nbconvert_exporter": "python",
   "pygments_lexer": "ipython3",
   "version": "3.7.9"
  },
  "orig_nbformat": 4
 },
 "nbformat": 4,
 "nbformat_minor": 2
}
