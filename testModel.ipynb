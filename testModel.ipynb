{
 "cells": [
  {
   "cell_type": "code",
   "execution_count": 61,
   "metadata": {},
   "outputs": [],
   "source": [
    "import tensorflow as tf\n",
    "from tensorflow.keras.optimizers import RMSprop\n",
    "import keras_preprocessing\n",
    "from keras_preprocessing import image\n",
    "from keras.preprocessing.image import ImageDataGenerator\n",
    "import matplotlib.pyplot as plt\n",
    "import matplotlib.image as mpimg\n",
    "import os\n",
    "import numpy as np"
   ]
  },
  {
   "cell_type": "code",
   "execution_count": 62,
   "metadata": {},
   "outputs": [
    {
     "name": "stdout",
     "output_type": "stream",
     "text": [
      "WARNING:tensorflow:No training configuration found in save file, so the model was *not* compiled. Compile it manually.\n"
     ]
    }
   ],
   "source": [
    "model_dir = r\"model5\"\n",
    "\n",
    "\n",
    "my_model = tf.keras.models.load_model(\n",
    "    model_dir,\n",
    "    custom_objects=None,\n",
    "    compile=True\n",
    ")"
   ]
  },
  {
   "cell_type": "code",
   "execution_count": 63,
   "metadata": {},
   "outputs": [
    {
     "name": "stdout",
     "output_type": "stream",
     "text": [
      "Model: \"sequential_1\"\n",
      "_________________________________________________________________\n",
      "Layer (type)                 Output Shape              Param #   \n",
      "=================================================================\n",
      "conv2d_2 (Conv2D)            (None, 30, 30, 6)         60        \n",
      "_________________________________________________________________\n",
      "average_pooling2d_2 (Average (None, 15, 15, 6)         0         \n",
      "_________________________________________________________________\n",
      "conv2d_3 (Conv2D)            (None, 13, 13, 16)        880       \n",
      "_________________________________________________________________\n",
      "average_pooling2d_3 (Average (None, 6, 6, 16)          0         \n",
      "_________________________________________________________________\n",
      "flatten_1 (Flatten)          (None, 576)               0         \n",
      "_________________________________________________________________\n",
      "dense_3 (Dense)              (None, 120)               69240     \n",
      "_________________________________________________________________\n",
      "dense_4 (Dense)              (None, 84)                10164     \n",
      "_________________________________________________________________\n",
      "dense_5 (Dense)              (None, 10)                850       \n",
      "=================================================================\n",
      "Total params: 81,194\n",
      "Trainable params: 81,194\n",
      "Non-trainable params: 0\n",
      "_________________________________________________________________\n"
     ]
    }
   ],
   "source": [
    "my_model.summary()"
   ]
  },
  {
   "cell_type": "code",
   "execution_count": 74,
   "metadata": {},
   "outputs": [
    {
     "data": {
      "text/plain": [
       "array([[9.8182803e-01, 1.8161220e-02, 5.6943062e-13, 1.8244247e-08,\n",
       "        3.9700987e-13, 2.1712074e-12, 1.0729194e-07, 4.5430656e-06,\n",
       "        1.5477366e-07, 5.9542549e-06]], dtype=float32)"
      ]
     },
     "execution_count": 74,
     "metadata": {},
     "output_type": "execute_result"
    }
   ],
   "source": [
    "my_model.compile(loss = \"categorical_crossentropy\", optimizer='rmsprop', metrics=['accuracy'])\n",
    "\n",
    "testImage = r\"test\\0\\01.png\"\n",
    "\n",
    "img = image.load_img(testImage, target_size =(32, 32), color_mode='grayscale')\n",
    "\n",
    "\n",
    "array = image.img_to_array(img)\n",
    "x = np.expand_dims(array, axis=0)\n",
    "\n",
    "vimage = np.vstack([x])\n",
    "my_model.predict(vimage)\n",
    "\n",
    "#tam gdzie wpisze 1 to ta kategoria miala najwieksza zgodnosc"
   ]
  },
  {
   "cell_type": "code",
   "execution_count": 75,
   "metadata": {},
   "outputs": [
    {
     "name": "stdout",
     "output_type": "stream",
     "text": [
      "Found 60 images belonging to 10 classes.\n"
     ]
    }
   ],
   "source": [
    "test_datagen = ImageDataGenerator(rescale = 1./255)\n",
    "\n",
    "test_dir = r\"test\" #sciezka do pliku z zdjeciami do testow\n",
    "test_gen = test_datagen.flow_from_directory(test_dir, \n",
    "                                                target_size=(32, 32), # all images will be resized to 150, 150 when it is loaded\n",
    "                                                class_mode=\"categorical\",color_mode=\"grayscale\")"
   ]
  },
  {
   "cell_type": "code",
   "execution_count": 76,
   "metadata": {},
   "outputs": [
    {
     "name": "stdout",
     "output_type": "stream",
     "text": [
      "2/2 [==============================] - 1s 318ms/step - loss: 2.3034 - accuracy: 0.1000\n",
      "[2.30340576171875, 0.10000000149011612]\n"
     ]
    }
   ],
   "source": [
    "result = my_model.evaluate(test_gen)\n",
    "print(result)"
   ]
  }
 ],
 "metadata": {
  "interpreter": {
   "hash": "ada95b7aa760c7ebc72eb3c8df3846e63d172e26ec59dab7d388de2df4652aa1"
  },
  "kernelspec": {
   "display_name": "Python 3.7.9 64-bit ('FruitRecognition-0gOXzYKb')",
   "name": "python3"
  },
  "language_info": {
   "codemirror_mode": {
    "name": "ipython",
    "version": 3
   },
   "file_extension": ".py",
   "mimetype": "text/x-python",
   "name": "python",
   "nbconvert_exporter": "python",
   "pygments_lexer": "ipython3",
   "version": "3.7.9"
  },
  "orig_nbformat": 2
 },
 "nbformat": 4,
 "nbformat_minor": 2
}
